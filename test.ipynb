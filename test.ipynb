{
 "cells": [
  {
   "cell_type": "code",
   "execution_count": 1,
   "metadata": {},
   "outputs": [
    {
     "name": "stdout",
     "output_type": "stream",
     "text": [
      "Connected to a GPU - GPU info summary: \n",
      "\n",
      "Fri Oct 11 00:38:48 2024       \n",
      "+-----------------------------------------------------------------------------------------+\n",
      "| NVIDIA-SMI 555.52.01              Driver Version: 555.99         CUDA Version: 12.5     |\n",
      "|-----------------------------------------+------------------------+----------------------+\n",
      "| GPU  Name                 Persistence-M | Bus-Id          Disp.A | Volatile Uncorr. ECC |\n",
      "| Fan  Temp   Perf          Pwr:Usage/Cap |           Memory-Usage | GPU-Util  Compute M. |\n",
      "|                                         |                        |               MIG M. |\n",
      "|=========================================+========================+======================|\n",
      "|   0  NVIDIA GeForce RTX 4060 Ti     On  |   00000000:01:00.0  On |                  N/A |\n",
      "| 32%   25C    P8              3W /  160W |     640MiB /   8188MiB |      6%      Default |\n",
      "|                                         |                        |                  N/A |\n",
      "+-----------------------------------------+------------------------+----------------------+\n",
      "                                                                                         \n",
      "+-----------------------------------------------------------------------------------------+\n",
      "| Processes:                                                                              |\n",
      "|  GPU   GI   CI        PID   Type   Process name                              GPU Memory |\n",
      "|        ID   ID                                                               Usage      |\n",
      "|=========================================================================================|\n",
      "|  No running processes found                                                             |\n",
      "+-----------------------------------------------------------------------------------------+\n"
     ]
    }
   ],
   "source": [
    "import cupy as cp \n",
    "import numpy as np\n",
    "import pygraphblas as gb\n",
    "\n",
    "# Check if connected to GPU\n",
    "gpu_info = !nvidia-smi\n",
    "gpu_info = '\\n'.join(gpu_info)\n",
    "if gpu_info.find('failed') >= 0:\n",
    "    print('Not connected to a GPU: need to configure runtime type to an environment with an accessible GPU')\n",
    "else:\n",
    "    print('Connected to a GPU - GPU info summary: \\n\\n' + gpu_info)"
   ]
  },
  {
   "cell_type": "code",
   "execution_count": 2,
   "metadata": {},
   "outputs": [],
   "source": [
    "# Trying out a non-matrix graph library called cuGraph which also uses GPU\n",
    "# import cugraph\n",
    "# import cudf\n",
    "\n",
    "# # Sample edge list\n",
    "# src = cudf.Series([0, 1, 2, 3, 4])\n",
    "# dst = cudf.Series([1, 2, 3, 4, 0])\n",
    "\n",
    "# # Create a Graph\n",
    "# G = cugraph.Graph(directed=True)\n",
    "# G.from_cudf_edgelist(cudf.DataFrame({'src': src, 'dst': dst}), source='src', destination='dst')\n",
    "\n",
    "# # Get the list of edges\n",
    "# edges_df = G.view_edge_list().sort_values(by=['src', 'dst'])\n",
    "\n",
    "# # Get the list of nodes (unique vertices)\n",
    "# nodes_df = cudf.concat([edges_df['src'], edges_df['dst']]).unique()\n",
    "\n",
    "# # Initialize an empty incidence matrix with zeros\n",
    "# num_nodes = len(nodes_df)\n",
    "# adj_matrix = cp.zeros((num_nodes, num_nodes), dtype=np.int32)\n",
    "\n",
    "# # Iterate through edges and update the incidence matrix\n",
    "# for _, edge in enumerate(edges_df.to_pandas().iterrows()):\n",
    "#     i, j = edge[1]['src'], edge[1]['dst']\n",
    "\n",
    "#     # Set the incidence for the source and destination nodes\n",
    "#     adj_matrix[i, j] = 1\n",
    "\n",
    "# # Convert to a cuDF DataFrame for easier viewing\n",
    "# adj_matrix_df = cudf.DataFrame(adj_matrix)\n",
    "# print(adj_matrix_df)"
   ]
  },
  {
   "cell_type": "code",
   "execution_count": 1,
   "metadata": {},
   "outputs": [],
   "source": [
    "# Use python wrapper of GraphBLAS on GPU (BLAS - Basic Linear Algebra Subprograms)\n",
    "# GraphBLAS supports graph operations via linear algebraic methods (e.g. matrix multiplication) over various semirings\n",
    "\n",
    "# GraphBLAS version of BMLP-RMS algorithm which performs repeated matrix squaring\n",
    "from bmlp.matrix import BMLP_RMS, BMLP_SMP"
   ]
  },
  {
   "cell_type": "code",
   "execution_count": 4,
   "metadata": {},
   "outputs": [
    {
     "data": {
      "image/png": "[encoded data removed]",
      "text/plain": [
       "<IPython.core.display.Image object>"
      ]
     },
     "execution_count": 4,
     "metadata": {},
     "output_type": "execute_result"
    }
   ],
   "source": [
    "# Simple graph example 1\n",
    "# Create edge list (directed graph) and the number of nodes (matrix dimension)\n",
    "edges = [(0, 1), (1, 2), (2, 3), (3, 4)]\n",
    "num_nodes = 5\n",
    "\n",
    "import pygraphviz as gviz\n",
    "G_visual = gviz.AGraph(directed=True)\n",
    "G_visual.add_edges_from(edges)\n",
    "G_visual.draw(\"simple_ex1.png\",prog=\"circo\")\n",
    "\n",
    "from IPython.display import Image\n",
    "\n",
    "# Provide the path to your local image\n",
    "Image(\"simple_ex1.png\")"
   ]
  },
  {
   "cell_type": "code",
   "execution_count": 5,
   "metadata": {},
   "outputs": [
    {
     "name": "stdout",
     "output_type": "stream",
     "text": [
      "R1 = \n",
      "      0  1  2  3  4\n",
      "  0|     t         |  0\n",
      "  1|        t      |  1\n",
      "  2|           t   |  2\n",
      "  3|              t|  3\n",
      "  4|               |  4\n",
      "      0  1  2  3  4\n",
      "\n",
      "R = R1 + I = \n",
      "      0  1  2  3  4\n",
      "  0|  t  t         |  0\n",
      "  1|     t  t      |  1\n",
      "  2|        t  t   |  2\n",
      "  3|           t  t|  3\n",
      "  4|              t|  4\n",
      "      0  1  2  3  4\n",
      "\n",
      "R2* = \n",
      "      0  1  2  3  4\n",
      "  0|  t  t  t      |  0\n",
      "  1|     t  t  t   |  1\n",
      "  2|        t  t  t|  2\n",
      "  3|           t  t|  3\n",
      "  4|              t|  4\n",
      "      0  1  2  3  4\n",
      "\n",
      "R2* = \n",
      "      0  1  2  3  4\n",
      "  0|  t  t  t  t  t|  0\n",
      "  1|     t  t  t  t|  1\n",
      "  2|        t  t  t|  2\n",
      "  3|           t  t|  3\n",
      "  4|              t|  4\n",
      "      0  1  2  3  4\n",
      "\n",
      "R2* = \n",
      "      0  1  2  3  4\n",
      "  0|  t  t  t  t  t|  0\n",
      "  1|     t  t  t  t|  1\n",
      "  2|        t  t  t|  2\n",
      "  3|           t  t|  3\n",
      "  4|              t|  4\n",
      "      0  1  2  3  4\n",
      "\n",
      "closure R2* = \n",
      "      0  1  2  3  4\n",
      "  0|     t  t  t  t|  0\n",
      "  1|        t  t  t|  1\n",
      "  2|           t  t|  2\n",
      "  3|              t|  3\n",
      "  4|               |  4\n",
      "      0  1  2  3  4\n",
      "\n"
     ]
    }
   ],
   "source": [
    "# Create a square adjacency matrix using BOOL type\n",
    "R1 = gb.Matrix.sparse(gb.BOOL, num_nodes, num_nodes)\n",
    "\n",
    "# Insert edges into the adjacency matrix\n",
    "for src, dst in edges:\n",
    "    R1[src, dst] = True\n",
    "print('R1 = \\n'+ str(R1) + '\\n')\n",
    "        \n",
    "# Print the transitive closure matrix\n",
    "print('closure R2* = \\n' + str(BMLP_RMS(R1, print_matrix=True)) + '\\n')"
   ]
  },
  {
   "cell_type": "code",
   "execution_count": 6,
   "metadata": {},
   "outputs": [
    {
     "data": {
      "image/png": "[encoded data removed]",
      "text/plain": [
       "<IPython.core.display.Image object>"
      ]
     },
     "execution_count": 6,
     "metadata": {},
     "output_type": "execute_result"
    }
   ],
   "source": [
    "# Simple graph example 2\n",
    "# Create edge list (directed graph) and the number of nodes (matrix dimension)\n",
    "edges = [(0, 1), (1, 2), (2, 3), (3, 0), (4, 4)]\n",
    "num_nodes = 5\n",
    "\n",
    "G_visual = gviz.AGraph(directed=True)\n",
    "G_visual.add_edges_from(edges)\n",
    "G_visual.draw(\"simple_ex2.png\",prog=\"circo\")\n",
    "\n",
    "# Provide the path to your local image\n",
    "Image(\"simple_ex2.png\")"
   ]
  },
  {
   "cell_type": "code",
   "execution_count": 7,
   "metadata": {},
   "outputs": [
    {
     "name": "stdout",
     "output_type": "stream",
     "text": [
      "R1 = \n",
      "      0  1  2  3  4\n",
      "  0|     t         |  0\n",
      "  1|        t      |  1\n",
      "  2|           t   |  2\n",
      "  3|  t            |  3\n",
      "  4|              t|  4\n",
      "      0  1  2  3  4\n",
      "\n",
      "closure R2* = \n",
      "      0  1  2  3  4\n",
      "  0|  t  t  t  t   |  0\n",
      "  1|  t  t  t  t   |  1\n",
      "  2|  t  t  t  t   |  2\n",
      "  3|  t  t  t  t   |  3\n",
      "  4|              t|  4\n",
      "      0  1  2  3  4\n",
      "\n"
     ]
    }
   ],
   "source": [
    "# Create a square adjacency matrix using BOOL type\n",
    "R1 = gb.Matrix.sparse(gb.BOOL, num_nodes, num_nodes)\n",
    "\n",
    "# Insert edges into the adjacency matrix\n",
    "for src, dst in edges:\n",
    "    R1[src, dst] = True\n",
    "print('R1 = \\n'+ str(R1) + '\\n')\n",
    "        \n",
    "# Print the transitive closure matrix\n",
    "print('closure R2* = \\n' + str(BMLP_RMS(R1)) + '\\n')"
   ]
  },
  {
   "cell_type": "code",
   "execution_count": 8,
   "metadata": {},
   "outputs": [
    {
     "name": "stdout",
     "output_type": "stream",
     "text": [
      "closure V* = \n",
      "0| t\n",
      "1| t\n",
      "2| t\n",
      "3| t\n",
      "4|\n",
      "\n"
     ]
    }
   ],
   "source": [
    "# Create a vector to represent a query\n",
    "V = gb.Vector.sparse(gb.BOOL, num_nodes)\n",
    "\n",
    "# query the reachability of node 3\n",
    "V[3] = True\n",
    "\n",
    "print('closure V* = \\n' + str(BMLP_SMP(V,R1)) + '\\n')"
   ]
  },
  {
   "cell_type": "code",
   "execution_count": 9,
   "metadata": {},
   "outputs": [
    {
     "name": "stdout",
     "output_type": "stream",
     "text": [
      "No. edges: 25000000\n"
     ]
    }
   ],
   "source": [
    "# Complex graph\n",
    "num_nodes = 5000\n",
    "all_edges = [(i, j) for i in range(num_nodes) for j in range(num_nodes)]\n",
    "print('No. edges: ' + str(len(all_edges)))"
   ]
  },
  {
   "cell_type": "code",
   "execution_count": 10,
   "metadata": {},
   "outputs": [
    {
     "name": "stdout",
     "output_type": "stream",
     "text": [
      "Wall time: 0.14957141876220703\n",
      "Wall time: 0.1416318416595459\n",
      "Wall time: 0.12098884582519531\n",
      "Wall time: 1.4885783195495605\n",
      "Wall time: 1.4405155181884766\n",
      "Wall time: 0.11778473854064941\n",
      "Wall time: 0.1220855712890625\n",
      "Wall time: 0.1107790470123291\n",
      "Wall time: 1.4530925750732422\n",
      "Wall time: 0.1209723949432373\n",
      "Mean wall time: 0.5266000270843506\n"
     ]
    }
   ],
   "source": [
    "import random, time\n",
    "\n",
    "num_reps = 10\n",
    "p = 0.01\n",
    "total_time = 0\n",
    "\n",
    "# repeat num_reps times\n",
    "for i in range(num_reps):\n",
    "\n",
    "    # sample edges with edge probability < p\n",
    "    sampled_edges = list(filter(lambda _: random.random() < p, all_edges))\n",
    "\n",
    "    # Create a square adjacency matrix using BOOL type\n",
    "    empty_matrix = gb.Matrix.sparse(gb.BOOL, num_nodes, num_nodes)\n",
    "    R1 = empty_matrix\n",
    "\n",
    "    # Insert edges into the adjacency matrix\n",
    "    for src, dst in sampled_edges:\n",
    "        R1[src, dst] = True\n",
    "\n",
    "    start_time = time.time()\n",
    "    BMLP_RMS(R1)\n",
    "    end_time = time.time()\n",
    "\n",
    "    total_time += end_time - start_time\n",
    "    print('Wall time: ' + str(end_time - start_time))\n",
    "\n",
    "print('Mean wall time: ' + str(total_time / num_reps))\n"
   ]
  }
 ],
 "metadata": {
  "kernelspec": {
   "display_name": "gpu-env",
   "language": "python",
   "name": "python3"
  },
  "language_info": {
   "codemirror_mode": {
    "name": "ipython",
    "version": 3
   },
   "file_extension": ".py",
   "mimetype": "text/x-python",
   "name": "python",
   "nbconvert_exporter": "python",
   "pygments_lexer": "ipython3",
   "version": "3.8.20"
  }
 },
 "nbformat": 4,
 "nbformat_minor": 2
}
